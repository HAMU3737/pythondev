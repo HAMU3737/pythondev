{
 "cells": [
  {
   "cell_type": "code",
   "execution_count": 13,
   "id": "fb491dea",
   "metadata": {},
   "outputs": [
    {
     "name": "stdout",
     "output_type": "stream",
     "text": [
      "名前を入力してください: Koichiro Takesita\n",
      "現在の年齢を入力してください: 36\n",
      "私の名前は Koichiro Takesita です。来年で 37 歳になります。\n"
     ]
    }
   ],
   "source": [
    "# 入力を受け取る\n",
    "name = input(\"名前を入力してください: \")\n",
    "age = int(input(\"現在の年齢を入力してください: \"))\n",
    "\n",
    "# 出力する\n",
    "print(f\"名前を入力してください: {name}\")\n",
    "print(f\"現在の年齢を入力してください: {age}\")\n",
    "print(f\"私の名前は {name} です。来年で {age + 1} 歳になります。\")"
   ]
  },
  {
   "cell_type": "code",
   "execution_count": null,
   "id": "ada3f0de",
   "metadata": {},
   "outputs": [],
   "source": []
  }
 ],
 "metadata": {
  "kernelspec": {
   "display_name": "Python 3",
   "language": "python",
   "name": "python3"
  },
  "language_info": {
   "codemirror_mode": {
    "name": "ipython",
    "version": 3
   },
   "file_extension": ".py",
   "mimetype": "text/x-python",
   "name": "python",
   "nbconvert_exporter": "python",
   "pygments_lexer": "ipython3",
   "version": "3.12.10"
  }
 },
 "nbformat": 4,
 "nbformat_minor": 5
}
