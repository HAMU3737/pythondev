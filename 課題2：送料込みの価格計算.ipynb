{
 "cells": [
  {
   "cell_type": "code",
   "execution_count": 8,
   "id": "2973e90e",
   "metadata": {},
   "outputs": [
    {
     "name": "stdout",
     "output_type": "stream",
     "text": [
      "税抜価格を入力してください：1800\n",
      "送料として350円かかります\n",
      "送料込みの価格は2330円です。\n"
     ]
    }
   ],
   "source": [
    "# ユーザーから税抜価格を入力\n",
    "price_input = input(\"税抜価格を入力してください：\")\n",
    "\n",
    "# 入力を数値に変換（例外処理は今回は省略）\n",
    "price = float(price_input)\n",
    "\n",
    "# 税込価格を計算（消費税10%とし、四捨五入）\n",
    "tax_included_price = round(price * 1.10)\n",
    "\n",
    "# 税込価格が2000円以上かどうかで分岐\n",
    "if tax_included_price >= 2000:\n",
    "    print(f\"税抜価格を入力してください：{price_input}\")\n",
    "    print(\"送料は無料です\")\n",
    "else:\n",
    "    print(f\"税抜価格を入力してください：{price_input}\")\n",
    "    print(\"送料として350円かかります\")\n",
    "    total_price = tax_included_price + 350\n",
    "    print(f\"送料込みの価格は{total_price}円です。\")"
   ]
  },
  {
   "cell_type": "code",
   "execution_count": null,
   "id": "fe2aae0e",
   "metadata": {},
   "outputs": [],
   "source": []
  }
 ],
 "metadata": {
  "kernelspec": {
   "display_name": "Python 3",
   "language": "python",
   "name": "python3"
  },
  "language_info": {
   "codemirror_mode": {
    "name": "ipython",
    "version": 3
   },
   "file_extension": ".py",
   "mimetype": "text/x-python",
   "name": "python",
   "nbconvert_exporter": "python",
   "pygments_lexer": "ipython3",
   "version": "3.12.10"
  }
 },
 "nbformat": 4,
 "nbformat_minor": 5
}
