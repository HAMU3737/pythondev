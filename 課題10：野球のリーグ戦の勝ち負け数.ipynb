{
 "cells": [
  {
   "cell_type": "code",
   "execution_count": 3,
   "id": "e702db38",
   "metadata": {},
   "outputs": [],
   "source": [
    "class Baseball_Team:\n",
    "    def __init__(self, name, win, lose, draw):\n",
    "        self.name = name\n",
    "        self.win = win\n",
    "        self.lose = lose\n",
    "        self.draw = draw\n",
    "\n",
    "    def calc_win_rate(self):\n",
    "        total_games = self.win + self.lose\n",
    "        if total_games == 0:\n",
    "            return 0\n",
    "        return self.win / total_games\n",
    "\n",
    "    def show_team_result(self):\n",
    "        win_rate = self.calc_win_rate()\n",
    "        print(f\"{self.name:<10} {self.win:>3} {self.lose:>3} {self.draw:>3} {win_rate:.3f}\")"
   ]
  },
  {
   "cell_type": "code",
   "execution_count": 4,
   "id": "cf1dd05f",
   "metadata": {},
   "outputs": [
    {
     "name": "stdout",
     "output_type": "stream",
     "text": [
      "Team      Win Lose Draw WinRate\n",
      "Archers     77  64   2 0.546\n",
      "Meteors     71  69   3 0.507\n",
      "Cheetahs    69  68   6 0.504\n",
      "Sharks      70  70   3 0.500\n",
      "Pythons     68  73   2 0.482\n",
      "Owls        59  82   2 0.418\n"
     ]
    }
   ],
   "source": [
    "# チームのインスタンスを作成\n",
    "teams = [\n",
    "    Baseball_Team(\"Archers\", 77, 64, 2),\n",
    "    Baseball_Team(\"Meteors\", 71, 69, 3),\n",
    "    Baseball_Team(\"Cheetahs\", 69, 68, 6),\n",
    "    Baseball_Team(\"Sharks\", 70, 70, 3),\n",
    "    Baseball_Team(\"Pythons\", 68, 73, 2),\n",
    "    Baseball_Team(\"Owls\", 59, 82, 2)\n",
    "]\n",
    "\n",
    "# 見出しを表示\n",
    "print(\"Team      Win Lose Draw WinRate\")\n",
    "\n",
    "# 各チームの勝敗情報を表示\n",
    "for team in teams:\n",
    "    team.show_team_result()"
   ]
  },
  {
   "cell_type": "code",
   "execution_count": null,
   "id": "31ab1ede",
   "metadata": {},
   "outputs": [],
   "source": []
  }
 ],
 "metadata": {
  "kernelspec": {
   "display_name": "Python 3",
   "language": "python",
   "name": "python3"
  },
  "language_info": {
   "codemirror_mode": {
    "name": "ipython",
    "version": 3
   },
   "file_extension": ".py",
   "mimetype": "text/x-python",
   "name": "python",
   "nbconvert_exporter": "python",
   "pygments_lexer": "ipython3",
   "version": "3.12.10"
  }
 },
 "nbformat": 4,
 "nbformat_minor": 5
}
