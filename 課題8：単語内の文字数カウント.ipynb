{
 "cells": [
  {
   "cell_type": "code",
   "execution_count": 1,
   "id": "ecf8bc1d",
   "metadata": {},
   "outputs": [
    {
     "name": "stdout",
     "output_type": "stream",
     "text": [
      "\n",
      "入力された英単語（ABC順）：\n",
      "bear\n",
      "cat\n",
      "dog\n",
      "giraffe\n",
      "horse\n",
      "kangarroo\n",
      "\n",
      "各文字の出現回数：\n",
      "a が 5 個ありました\n",
      "b が 1 個ありました\n",
      "c が 1 個ありました\n",
      "d が 1 個ありました\n",
      "e が 3 個ありました\n",
      "f が 2 個ありました\n",
      "g が 3 個ありました\n",
      "h が 1 個ありました\n",
      "i が 1 個ありました\n",
      "k が 1 個ありました\n",
      "n が 1 個ありました\n",
      "o が 4 個ありました\n",
      "r が 5 個ありました\n",
      "s が 1 個ありました\n",
      "t が 1 個ありました\n"
     ]
    }
   ],
   "source": [
    "# 英単語を格納するための空リスト\n",
    "word_list = []\n",
    "\n",
    "# a～zのアルファベットをキー、0を値にした辞書を作成\n",
    "char_count = {\n",
    "    'a': 0, 'b': 0, 'c': 0, 'd': 0, 'e': 0,\n",
    "    'f': 0, 'g': 0, 'h': 0, 'i': 0, 'j': 0,\n",
    "    'k': 0, 'l': 0, 'm': 0, 'n': 0, 'o': 0,\n",
    "    'p': 0, 'q': 0, 'r': 0, 's': 0, 't': 0,\n",
    "    'u': 0, 'v': 0, 'w': 0, 'x': 0, 'y': 0,\n",
    "    'z': 0\n",
    "}\n",
    "\n",
    "# 単語入力の受付（空文字が入力されるまでループ）\n",
    "while True:\n",
    "    word = input(\"英単語を入力してください（終了するにはEnterのみ押す）：\").strip().lower()\n",
    "    if word == \"\":\n",
    "        break\n",
    "    word_list.append(word)\n",
    "    \n",
    "    # 入力された単語の各文字をカウント\n",
    "    for char in word:\n",
    "        if char in char_count:\n",
    "            char_count[char] += 1\n",
    "\n",
    "# 入力された英単語リストをABC順に並び替えて表示\n",
    "print(\"\\n入力された英単語（ABC順）：\")\n",
    "for w in sorted(word_list):\n",
    "    print(w)\n",
    "\n",
    "# 文字ごとの出現数を表示（出現したもののみ）\n",
    "print(\"\\n各文字の出現回数：\")\n",
    "for char in sorted(char_count):\n",
    "    count = char_count[char]\n",
    "    if count > 0:\n",
    "        print(f\"{char} が {count} 個ありました\")"
   ]
  },
  {
   "cell_type": "code",
   "execution_count": null,
   "id": "ac37075e",
   "metadata": {},
   "outputs": [],
   "source": []
  }
 ],
 "metadata": {
  "kernelspec": {
   "display_name": "Python 3",
   "language": "python",
   "name": "python3"
  },
  "language_info": {
   "codemirror_mode": {
    "name": "ipython",
    "version": 3
   },
   "file_extension": ".py",
   "mimetype": "text/x-python",
   "name": "python",
   "nbconvert_exporter": "python",
   "pygments_lexer": "ipython3",
   "version": "3.12.10"
  }
 },
 "nbformat": 4,
 "nbformat_minor": 5
}
