{
 "cells": [
  {
   "cell_type": "code",
   "execution_count": null,
   "id": "73466c33",
   "metadata": {},
   "outputs": [
    {
     "name": "stdout",
     "output_type": "stream",
     "text": [
      "点数を入力してください：100\n",
      "点数を入力してください：58\n",
      "点数を入力してください：87\n",
      "点数を入力してください：99\n",
      "点数を入力してください：100\n",
      "点数を入力してください：68\n",
      "点数を入力してください：32\n",
      "点数を入力してください：44\n",
      "点数を入力してください：44\n",
      "点数を入力してください：-1\n",
      "9人のテストの平均点は70.2点です\n"
     ]
    }
   ],
   "source": [
    "scores = []                                       # 入力された点数を保存するリスト\n",
    "\n",
    "while True:                                       # 無限ループ\n",
    "    score_input = input(\"点数を入力してください（終了するには -1 を入力）：\")\n",
    "    print(f\"点数を入力してください：{score_input}\")   # 入力値の表示\n",
    "\n",
    "    try:\n",
    "        score = int(score_input)                  # 整数に変換\n",
    "    except ValueError:                            # ループに戻る\n",
    "        print(\"整数で入力してください。\")\n",
    "        continue\n",
    "\n",
    "    if score == -1:                               # 強制終了\n",
    "        break\n",
    "\n",
    "    scores.append(score)                          # 入力された点数をリストに追加\n",
    "\n",
    "count = len(scores)                               # scoresに格納した人数を取得\n",
    "\n",
    "if count > 0:\n",
    "    total_score = sum(scores)                     # 点数の合計\n",
    "    average = total_score / count                 # 平均点の計算\n",
    "    average_rounded = round(average, 1)           # 小数点第１位まで四捨五入\n",
    "    print(f\"{count}人のテストの平均点は{average_rounded}点です\")\n",
    "else:\n",
    "    print(\"点数が入力されませんでした。\")              # 点数が入力されていない場合"
   ]
  },
  {
   "cell_type": "code",
   "execution_count": null,
   "id": "cba9fbb8",
   "metadata": {},
   "outputs": [],
   "source": []
  }
 ],
 "metadata": {
  "kernelspec": {
   "display_name": "Python 3",
   "language": "python",
   "name": "python3"
  },
  "language_info": {
   "codemirror_mode": {
    "name": "ipython",
    "version": 3
   },
   "file_extension": ".py",
   "mimetype": "text/x-python",
   "name": "python",
   "nbconvert_exporter": "python",
   "pygments_lexer": "ipython3",
   "version": "3.12.10"
  }
 },
 "nbformat": 4,
 "nbformat_minor": 5
}
